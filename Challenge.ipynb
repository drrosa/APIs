{
 "metadata": {
  "name": "",
  "signature": "sha256:aec7a03a035b8594d68a8621123784f30d56e9abd6f11792acba4dd860f86bfd"
 },
 "nbformat": 3,
 "nbformat_minor": 0,
 "worksheets": [
  {
   "cells": [
    {
     "cell_type": "code",
     "collapsed": false,
     "input": [
      "from requests import post\n",
      "import json\n",
      "\n",
      "token = '{\"token\":\"\"}'"
     ],
     "language": "python",
     "metadata": {},
     "outputs": [],
     "prompt_number": 3
    },
    {
     "cell_type": "markdown",
     "metadata": {},
     "source": [
      "###Stage I - Reverse a String"
     ]
    },
    {
     "cell_type": "code",
     "collapsed": false,
     "input": [
      "response = post(\"http://challenge.code2040.org/api/getstring\", token)\n",
      "string = response.json()['result']\n",
      "\n",
      "chars = list(string)\n",
      "chars.reverse()\n",
      "rev_string = \"\".join(chars)\n",
      "\n",
      "body = json.loads(token)\n",
      "body['string'] = rev_string\n",
      "body = json.dumps(body)\n",
      "\n",
      "response = post(\"http://challenge.code2040.org/api/validatestring\", body)\n",
      "print(response.text)"
     ],
     "language": "python",
     "metadata": {},
     "outputs": [
      {
       "output_type": "stream",
       "stream": "stdout",
       "text": [
        "{\"result\":\"PASS: stage1. Enrollment record updated!\"}\n",
        "\n"
       ]
      }
     ],
     "prompt_number": 46
    },
    {
     "cell_type": "markdown",
     "metadata": {},
     "source": [
      "###Stage II - Needle in a haystack"
     ]
    },
    {
     "cell_type": "code",
     "collapsed": false,
     "input": [
      "response = post(\"http://challenge.code2040.org/api/haystack\", token)\n",
      "result = response.json()['result']\n",
      "needle = result['needle']\n",
      "haystack = result['haystack']\n",
      "\n",
      "for i in range( len(haystack) ):\n",
      "    if needle == haystack[i]:\n",
      "        break\n",
      "\n",
      "body = json.loads(token)\n",
      "body['needle'] = i\n",
      "body = json.dumps(body)\n",
      "\n",
      "response = post(\"http://challenge.code2040.org/api/validateneedle\", body)\n",
      "print(response.text)"
     ],
     "language": "python",
     "metadata": {},
     "outputs": [
      {
       "output_type": "stream",
       "stream": "stdout",
       "text": [
        "{\"result\":\"PASS: stage2. Enrollment record updated!\"}\n",
        "\n"
       ]
      }
     ],
     "prompt_number": 6
    }
   ],
   "metadata": {}
  }
 ]
}