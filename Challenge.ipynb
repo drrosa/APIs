{
 "metadata": {
  "name": "",
  "signature": "sha256:0996120f72683ca55513070fa7c1943ae3d2bdef4b4c1d24beb32c73591281b4"
 },
 "nbformat": 3,
 "nbformat_minor": 0,
 "worksheets": [
  {
   "cells": [
    {
     "cell_type": "code",
     "collapsed": false,
     "input": [
      "from requests import post\n",
      "import json\n",
      "\n",
      "token = '{\"token\":\"\"}'"
     ],
     "language": "python",
     "metadata": {},
     "outputs": [],
     "prompt_number": 26
    },
    {
     "cell_type": "markdown",
     "metadata": {},
     "source": [
      "###Stage I - Reverse a String"
     ]
    },
    {
     "cell_type": "code",
     "collapsed": false,
     "input": [
      "response = post(\"http://challenge.code2040.org/api/getstring\", token)\n",
      "string = response.json()['result']\n",
      "\n",
      "chars = list(string)\n",
      "chars.reverse()\n",
      "rev_string = \"\".join(chars)\n",
      "\n",
      "body = json.loads(token)\n",
      "body['string'] = rev_string\n",
      "body = json.dumps(body)\n",
      "\n",
      "response = post(\"http://challenge.code2040.org/api/validatestring\", body)\n",
      "print(response.text)"
     ],
     "language": "python",
     "metadata": {},
     "outputs": [
      {
       "output_type": "stream",
       "stream": "stdout",
       "text": [
        "{\"result\":\"PASS: stage1. Enrollment record updated!\"}\n",
        "\n"
       ]
      }
     ],
     "prompt_number": 46
    }
   ],
   "metadata": {}
  }
 ]
}