{
 "metadata": {
  "name": "",
  "signature": "sha256:17a4b69bd7b86f415f73428244425cc5ef046992f8276c7c2c31b20c42f0b882"
 },
 "nbformat": 3,
 "nbformat_minor": 0,
 "worksheets": [
  {
   "cells": [
    {
     "cell_type": "code",
     "collapsed": false,
     "input": [
      "from requests import post\n",
      "import json\n",
      "\n",
      "token = '{\"token\":\"\"}'"
     ],
     "language": "python",
     "metadata": {},
     "outputs": [],
     "prompt_number": 3
    },
    {
     "cell_type": "markdown",
     "metadata": {},
     "source": [
      "###Stage I - Reverse a String"
     ]
    },
    {
     "cell_type": "code",
     "collapsed": false,
     "input": [
      "response = post(\"http://challenge.code2040.org/api/getstring\", token)\n",
      "string = response.json()['result']\n",
      "\n",
      "chars = list(string)\n",
      "chars.reverse()\n",
      "rev_string = \"\".join(chars)\n",
      "\n",
      "body = json.loads(token)\n",
      "body['string'] = rev_string\n",
      "body = json.dumps(body)\n",
      "\n",
      "response = post(\"http://challenge.code2040.org/api/validatestring\", body)\n",
      "print(response.text)"
     ],
     "language": "python",
     "metadata": {},
     "outputs": [
      {
       "output_type": "stream",
       "stream": "stdout",
       "text": [
        "{\"result\":\"PASS: stage1. Enrollment record updated!\"}\n",
        "\n"
       ]
      }
     ],
     "prompt_number": 46
    },
    {
     "cell_type": "markdown",
     "metadata": {},
     "source": [
      "###Stage II - Needle in a haystack"
     ]
    },
    {
     "cell_type": "code",
     "collapsed": false,
     "input": [
      "response = post(\"http://challenge.code2040.org/api/haystack\", token)\n",
      "result = response.json()['result']\n",
      "needle = result['needle']\n",
      "haystack = result['haystack']\n",
      "\n",
      "for i in range( len(haystack) ):\n",
      "    if needle == haystack[i]:\n",
      "        break\n",
      "\n",
      "body = json.loads(token)\n",
      "body['needle'] = i\n",
      "body = json.dumps(body)\n",
      "\n",
      "response = post(\"http://challenge.code2040.org/api/validateneedle\", body)\n",
      "print(response.text)"
     ],
     "language": "python",
     "metadata": {},
     "outputs": [
      {
       "output_type": "stream",
       "stream": "stdout",
       "text": [
        "{\"result\":\"PASS: stage2. Enrollment record updated!\"}\n",
        "\n"
       ]
      }
     ],
     "prompt_number": 6
    },
    {
     "cell_type": "markdown",
     "metadata": {},
     "source": [
      "###Stage III - Prefix"
     ]
    },
    {
     "cell_type": "code",
     "collapsed": false,
     "input": [
      "response = post(\"http://challenge.code2040.org/api/prefix\", token)\n",
      "result = response.json()['result']\n",
      "prefix = result['prefix']\n",
      "array = result['array']\n",
      "\n",
      "no_prefix = []\n",
      "\n",
      "for string in array:\n",
      "    if string.find(prefix) != 0:\n",
      "        no_prefix.append(string)\n",
      "\n",
      "body = json.loads(token)\n",
      "body['array'] = no_prefix\n",
      "body = json.dumps(body)\n",
      "\n",
      "response = post(\"http://challenge.code2040.org/api/validateprefix\", body)\n",
      "print(response.text)"
     ],
     "language": "python",
     "metadata": {},
     "outputs": [
      {
       "output_type": "stream",
       "stream": "stdout",
       "text": [
        "{\"result\":\"PASS: stage3. Enrollment record updated!\"}\n",
        "\n"
       ]
      }
     ],
     "prompt_number": 21
    },
    {
     "cell_type": "markdown",
     "metadata": {},
     "source": [
      "###Stage IV - The dating game"
     ]
    },
    {
     "cell_type": "code",
     "collapsed": false,
     "input": [
      "from dateutil.parser import parse\n",
      "from datetime import timedelta"
     ],
     "language": "python",
     "metadata": {},
     "outputs": [],
     "prompt_number": 41
    },
    {
     "cell_type": "code",
     "collapsed": false,
     "input": [
      "response = post(\"http://challenge.code2040.org/api/time\", token)\n",
      "result = response.json()['result']\n",
      "datestamp = result['datestamp']\n",
      "interval = result['interval']\n",
      "datestamp = parse(datestamp)\n",
      "datestamp = datestamp + timedelta(seconds=interval)\n",
      "\n",
      "body = json.loads(token)\n",
      "body['datestamp'] = datestamp.strftime(\"%Y-%m-%dT%H:%M:%S.%f\")[:-3]+\"Z\"\n",
      "body = json.dumps(body)\n",
      "\n",
      "response = post(\"http://challenge.code2040.org/api/validatetime\", body)\n",
      "print(response.text)"
     ],
     "language": "python",
     "metadata": {},
     "outputs": [
      {
       "output_type": "stream",
       "stream": "stdout",
       "text": [
        "{\"result\":\"PASS: stage4. Enrollment record updated!\"}\n",
        "\n"
       ]
      }
     ],
     "prompt_number": 75
    }
   ],
   "metadata": {}
  }
 ]
}